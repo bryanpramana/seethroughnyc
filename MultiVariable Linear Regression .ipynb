{
 "cells": [
  {
   "cell_type": "code",
   "execution_count": 1,
   "metadata": {},
   "outputs": [],
   "source": [
    "import pandas as pd\n",
    "import numpy as np\n",
    "\n",
    "# A basic visualization library\n",
    "import matplotlib.pyplot as plt\n",
    "\n",
    "# A great visualization library\n",
    "import seaborn as sns\n",
    "\n",
    "# This command tells python to use seaborn for its styling.\n",
    "sns.set()\n",
    "\n",
    "# Making the charts appear in the notebook instead of in a new window.\n",
    "%matplotlib inline\n",
    "\n",
    "# Linear Regression #\n",
    "\n",
    "from sklearn.linear_model import LinearRegression\n",
    "from sklearn.model_selection import train_test_split, cross_val_score\n",
    "from sklearn.metrics import mean_squared_error\n",
    "from sklearn import linear_model\n",
    "\n",
    "### Variables ###\n",
    "\n",
    "Annual_Inflation = 0.03\n",
    "Economic_Growth = 0.025\n",
    "\n"
   ]
  },
  {
   "cell_type": "code",
   "execution_count": 2,
   "metadata": {},
   "outputs": [
    {
     "data": {
      "text/html": [
       "<div>\n",
       "<style scoped>\n",
       "    .dataframe tbody tr th:only-of-type {\n",
       "        vertical-align: middle;\n",
       "    }\n",
       "\n",
       "    .dataframe tbody tr th {\n",
       "        vertical-align: top;\n",
       "    }\n",
       "\n",
       "    .dataframe thead th {\n",
       "        text-align: right;\n",
       "    }\n",
       "</style>\n",
       "<table border=\"1\" class=\"dataframe\">\n",
       "  <thead>\n",
       "    <tr style=\"text-align: right;\">\n",
       "      <th></th>\n",
       "      <th>BOROUGH</th>\n",
       "      <th>NEIGHBORHOOD</th>\n",
       "      <th>BUILDING CLASS CATEGORY</th>\n",
       "      <th>TAX CLASS AT PRESENT</th>\n",
       "      <th>BLOCK</th>\n",
       "      <th>LOT</th>\n",
       "      <th>EASE-MENT</th>\n",
       "      <th>BUILDING CLASS AT PRESENT</th>\n",
       "      <th>ADDRESS</th>\n",
       "      <th>APARTMENT NUMBER</th>\n",
       "      <th>...</th>\n",
       "      <th>RESIDENTIAL UNITS</th>\n",
       "      <th>COMMERCIAL UNITS</th>\n",
       "      <th>TOTAL UNITS</th>\n",
       "      <th>LAND SQUARE FEET</th>\n",
       "      <th>GROSS SQUARE FEET</th>\n",
       "      <th>YEAR BUILT</th>\n",
       "      <th>TAX CLASS AT TIME OF SALE</th>\n",
       "      <th>BUILDING CLASS AT TIME OF SALE</th>\n",
       "      <th>SALE PRICE</th>\n",
       "      <th>SALE DATE</th>\n",
       "    </tr>\n",
       "  </thead>\n",
       "  <tbody>\n",
       "    <tr>\n",
       "      <th>0</th>\n",
       "      <td>1</td>\n",
       "      <td>ALPHABET CITY</td>\n",
       "      <td>07 RENTALS - WALKUP APARTMENTS</td>\n",
       "      <td>2A</td>\n",
       "      <td>392</td>\n",
       "      <td>6</td>\n",
       "      <td></td>\n",
       "      <td>C2</td>\n",
       "      <td>153 AVENUE B</td>\n",
       "      <td></td>\n",
       "      <td>...</td>\n",
       "      <td>5</td>\n",
       "      <td>0</td>\n",
       "      <td>5</td>\n",
       "      <td>1633.0</td>\n",
       "      <td>6440.0</td>\n",
       "      <td>1900</td>\n",
       "      <td>2</td>\n",
       "      <td>C2</td>\n",
       "      <td>6625000.0</td>\n",
       "      <td>7/19/2017 0:00</td>\n",
       "    </tr>\n",
       "    <tr>\n",
       "      <th>1</th>\n",
       "      <td>1</td>\n",
       "      <td>ALPHABET CITY</td>\n",
       "      <td>07 RENTALS - WALKUP APARTMENTS</td>\n",
       "      <td>2B</td>\n",
       "      <td>402</td>\n",
       "      <td>21</td>\n",
       "      <td></td>\n",
       "      <td>C4</td>\n",
       "      <td>154 EAST 7TH STREET</td>\n",
       "      <td></td>\n",
       "      <td>...</td>\n",
       "      <td>10</td>\n",
       "      <td>0</td>\n",
       "      <td>10</td>\n",
       "      <td>2272.0</td>\n",
       "      <td>6794.0</td>\n",
       "      <td>1913</td>\n",
       "      <td>2</td>\n",
       "      <td>C4</td>\n",
       "      <td>3936272.0</td>\n",
       "      <td>9/23/2016 0:00</td>\n",
       "    </tr>\n",
       "    <tr>\n",
       "      <th>2</th>\n",
       "      <td>1</td>\n",
       "      <td>ALPHABET CITY</td>\n",
       "      <td>07 RENTALS - WALKUP APARTMENTS</td>\n",
       "      <td>2A</td>\n",
       "      <td>404</td>\n",
       "      <td>55</td>\n",
       "      <td></td>\n",
       "      <td>C2</td>\n",
       "      <td>301 EAST 10TH   STREET</td>\n",
       "      <td></td>\n",
       "      <td>...</td>\n",
       "      <td>6</td>\n",
       "      <td>0</td>\n",
       "      <td>6</td>\n",
       "      <td>2369.0</td>\n",
       "      <td>4615.0</td>\n",
       "      <td>1900</td>\n",
       "      <td>2</td>\n",
       "      <td>C2</td>\n",
       "      <td>8000000.0</td>\n",
       "      <td>11/17/2016 0:00</td>\n",
       "    </tr>\n",
       "    <tr>\n",
       "      <th>3</th>\n",
       "      <td>1</td>\n",
       "      <td>ALPHABET CITY</td>\n",
       "      <td>07 RENTALS - WALKUP APARTMENTS</td>\n",
       "      <td>2B</td>\n",
       "      <td>406</td>\n",
       "      <td>32</td>\n",
       "      <td></td>\n",
       "      <td>C4</td>\n",
       "      <td>210 AVENUE B</td>\n",
       "      <td></td>\n",
       "      <td>...</td>\n",
       "      <td>8</td>\n",
       "      <td>0</td>\n",
       "      <td>8</td>\n",
       "      <td>1750.0</td>\n",
       "      <td>4226.0</td>\n",
       "      <td>1920</td>\n",
       "      <td>2</td>\n",
       "      <td>C4</td>\n",
       "      <td>3192840.0</td>\n",
       "      <td>9/23/2016 0:00</td>\n",
       "    </tr>\n",
       "    <tr>\n",
       "      <th>4</th>\n",
       "      <td>1</td>\n",
       "      <td>ALPHABET CITY</td>\n",
       "      <td>08 RENTALS - ELEVATOR APARTMENTS</td>\n",
       "      <td>2</td>\n",
       "      <td>387</td>\n",
       "      <td>153</td>\n",
       "      <td></td>\n",
       "      <td>D9</td>\n",
       "      <td>629 EAST 5TH STREET</td>\n",
       "      <td></td>\n",
       "      <td>...</td>\n",
       "      <td>24</td>\n",
       "      <td>0</td>\n",
       "      <td>24</td>\n",
       "      <td>4489.0</td>\n",
       "      <td>18523.0</td>\n",
       "      <td>1920</td>\n",
       "      <td>2</td>\n",
       "      <td>D9</td>\n",
       "      <td>16232000.0</td>\n",
       "      <td>11/7/2016 0:00</td>\n",
       "    </tr>\n",
       "  </tbody>\n",
       "</table>\n",
       "<p>5 rows × 21 columns</p>\n",
       "</div>"
      ],
      "text/plain": [
       "   BOROUGH   NEIGHBORHOOD                      BUILDING CLASS CATEGORY  \\\n",
       "0        1  ALPHABET CITY  07 RENTALS - WALKUP APARTMENTS                \n",
       "1        1  ALPHABET CITY  07 RENTALS - WALKUP APARTMENTS                \n",
       "2        1  ALPHABET CITY  07 RENTALS - WALKUP APARTMENTS                \n",
       "3        1  ALPHABET CITY  07 RENTALS - WALKUP APARTMENTS                \n",
       "4        1  ALPHABET CITY  08 RENTALS - ELEVATOR APARTMENTS              \n",
       "\n",
       "  TAX CLASS AT PRESENT  BLOCK  LOT EASE-MENT BUILDING CLASS AT PRESENT  \\\n",
       "0                   2A    392    6                                  C2   \n",
       "1                   2B    402   21                                  C4   \n",
       "2                   2A    404   55                                  C2   \n",
       "3                   2B    406   32                                  C4   \n",
       "4                    2    387  153                                  D9   \n",
       "\n",
       "                  ADDRESS APARTMENT NUMBER  ...  RESIDENTIAL UNITS  \\\n",
       "0            153 AVENUE B                   ...                  5   \n",
       "1     154 EAST 7TH STREET                   ...                 10   \n",
       "2  301 EAST 10TH   STREET                   ...                  6   \n",
       "3            210 AVENUE B                   ...                  8   \n",
       "4     629 EAST 5TH STREET                   ...                 24   \n",
       "\n",
       "   COMMERCIAL UNITS  TOTAL UNITS  LAND SQUARE FEET  GROSS SQUARE FEET  \\\n",
       "0                 0            5            1633.0             6440.0   \n",
       "1                 0           10            2272.0             6794.0   \n",
       "2                 0            6            2369.0             4615.0   \n",
       "3                 0            8            1750.0             4226.0   \n",
       "4                 0           24            4489.0            18523.0   \n",
       "\n",
       "   YEAR BUILT  TAX CLASS AT TIME OF SALE  BUILDING CLASS AT TIME OF SALE  \\\n",
       "0        1900                          2                              C2   \n",
       "1        1913                          2                              C4   \n",
       "2        1900                          2                              C2   \n",
       "3        1920                          2                              C4   \n",
       "4        1920                          2                              D9   \n",
       "\n",
       "   SALE PRICE        SALE DATE  \n",
       "0   6625000.0   7/19/2017 0:00  \n",
       "1   3936272.0   9/23/2016 0:00  \n",
       "2   8000000.0  11/17/2016 0:00  \n",
       "3   3192840.0   9/23/2016 0:00  \n",
       "4  16232000.0   11/7/2016 0:00  \n",
       "\n",
       "[5 rows x 21 columns]"
      ]
     },
     "execution_count": 2,
     "metadata": {},
     "output_type": "execute_result"
    }
   ],
   "source": [
    "df = pd.read_csv('nyc-rolling-sales.csv')\n",
    "df.head()"
   ]
  },
  {
   "cell_type": "code",
   "execution_count": 3,
   "metadata": {},
   "outputs": [
    {
     "data": {
      "text/plain": [
       "BOROUGH                            0.00\n",
       "NEIGHBORHOOD                       0.00\n",
       "BUILDING CLASS CATEGORY            0.00\n",
       "TAX CLASS AT PRESENT               0.00\n",
       "BLOCK                              0.00\n",
       "LOT                                0.00\n",
       "EASE-MENT                          0.00\n",
       "BUILDING CLASS AT PRESENT          0.00\n",
       "ADDRESS                            0.00\n",
       "APARTMENT NUMBER                   0.00\n",
       "ZIP CODE                           0.00\n",
       "RESIDENTIAL UNITS                  0.00\n",
       "COMMERCIAL UNITS                   0.00\n",
       "TOTAL UNITS                        0.00\n",
       "LAND SQUARE FEET                  33.23\n",
       "GROSS SQUARE FEET                 35.06\n",
       "YEAR BUILT                         0.00\n",
       "TAX CLASS AT TIME OF SALE          0.00\n",
       "BUILDING CLASS AT TIME OF SALE     0.00\n",
       "SALE PRICE                        15.43\n",
       "SALE DATE                          0.00\n",
       "dtype: float64"
      ]
     },
     "execution_count": 3,
     "metadata": {},
     "output_type": "execute_result"
    }
   ],
   "source": [
    "# Identify which columns have null values. \n",
    "df.isnull().sum() \n",
    "((df.isnull().sum() / len(df)) * 100).round(2)\n"
   ]
  },
  {
   "cell_type": "code",
   "execution_count": 4,
   "metadata": {},
   "outputs": [
    {
     "name": "stdout",
     "output_type": "stream",
     "text": [
      "Number of duplicate rows are 380.\n"
     ]
    }
   ],
   "source": [
    "n_dupes = df.duplicated().sum()\n",
    "print(\"Number of duplicate rows are %i.\" % n_dupes)\n",
    "\n",
    "# Modify our df to have all duplicate rows removed. \n",
    "df = df.drop_duplicates()"
   ]
  },
  {
   "cell_type": "code",
   "execution_count": 5,
   "metadata": {},
   "outputs": [
    {
     "data": {
      "text/html": [
       "<div>\n",
       "<style scoped>\n",
       "    .dataframe tbody tr th:only-of-type {\n",
       "        vertical-align: middle;\n",
       "    }\n",
       "\n",
       "    .dataframe tbody tr th {\n",
       "        vertical-align: top;\n",
       "    }\n",
       "\n",
       "    .dataframe thead th {\n",
       "        text-align: right;\n",
       "    }\n",
       "</style>\n",
       "<table border=\"1\" class=\"dataframe\">\n",
       "  <thead>\n",
       "    <tr style=\"text-align: right;\">\n",
       "      <th></th>\n",
       "      <th>ADDRESS</th>\n",
       "      <th>ZIP CODE</th>\n",
       "      <th>LAND SQUARE FEET</th>\n",
       "      <th>GROSS SQUARE FEET</th>\n",
       "      <th>SALE PRICE</th>\n",
       "      <th>TAX CLASS AT PRESENT</th>\n",
       "    </tr>\n",
       "  </thead>\n",
       "  <tbody>\n",
       "    <tr>\n",
       "      <th>0</th>\n",
       "      <td>153 AVENUE B</td>\n",
       "      <td>10009</td>\n",
       "      <td>1633.0</td>\n",
       "      <td>6440.0</td>\n",
       "      <td>6625000.0</td>\n",
       "      <td>2A</td>\n",
       "    </tr>\n",
       "    <tr>\n",
       "      <th>1</th>\n",
       "      <td>154 EAST 7TH STREET</td>\n",
       "      <td>10009</td>\n",
       "      <td>2272.0</td>\n",
       "      <td>6794.0</td>\n",
       "      <td>3936272.0</td>\n",
       "      <td>2B</td>\n",
       "    </tr>\n",
       "    <tr>\n",
       "      <th>2</th>\n",
       "      <td>301 EAST 10TH   STREET</td>\n",
       "      <td>10009</td>\n",
       "      <td>2369.0</td>\n",
       "      <td>4615.0</td>\n",
       "      <td>8000000.0</td>\n",
       "      <td>2A</td>\n",
       "    </tr>\n",
       "    <tr>\n",
       "      <th>3</th>\n",
       "      <td>210 AVENUE B</td>\n",
       "      <td>10009</td>\n",
       "      <td>1750.0</td>\n",
       "      <td>4226.0</td>\n",
       "      <td>3192840.0</td>\n",
       "      <td>2B</td>\n",
       "    </tr>\n",
       "    <tr>\n",
       "      <th>4</th>\n",
       "      <td>629 EAST 5TH STREET</td>\n",
       "      <td>10009</td>\n",
       "      <td>4489.0</td>\n",
       "      <td>18523.0</td>\n",
       "      <td>16232000.0</td>\n",
       "      <td>2</td>\n",
       "    </tr>\n",
       "    <tr>\n",
       "      <th>...</th>\n",
       "      <td>...</td>\n",
       "      <td>...</td>\n",
       "      <td>...</td>\n",
       "      <td>...</td>\n",
       "      <td>...</td>\n",
       "      <td>...</td>\n",
       "    </tr>\n",
       "    <tr>\n",
       "      <th>69293</th>\n",
       "      <td>37 QUAIL LANE</td>\n",
       "      <td>10309</td>\n",
       "      <td>2400.0</td>\n",
       "      <td>2575.0</td>\n",
       "      <td>450000.0</td>\n",
       "      <td>1</td>\n",
       "    </tr>\n",
       "    <tr>\n",
       "      <th>69294</th>\n",
       "      <td>32 PHEASANT LANE</td>\n",
       "      <td>10309</td>\n",
       "      <td>2498.0</td>\n",
       "      <td>2377.0</td>\n",
       "      <td>550000.0</td>\n",
       "      <td>1</td>\n",
       "    </tr>\n",
       "    <tr>\n",
       "      <th>69295</th>\n",
       "      <td>49 PITNEY AVENUE</td>\n",
       "      <td>10309</td>\n",
       "      <td>4000.0</td>\n",
       "      <td>1496.0</td>\n",
       "      <td>460000.0</td>\n",
       "      <td>1</td>\n",
       "    </tr>\n",
       "    <tr>\n",
       "      <th>69296</th>\n",
       "      <td>2730 ARTHUR KILL ROAD</td>\n",
       "      <td>10309</td>\n",
       "      <td>208033.0</td>\n",
       "      <td>64117.0</td>\n",
       "      <td>11693337.0</td>\n",
       "      <td>4</td>\n",
       "    </tr>\n",
       "    <tr>\n",
       "      <th>69297</th>\n",
       "      <td>155 CLAY PIT ROAD</td>\n",
       "      <td>10309</td>\n",
       "      <td>10796.0</td>\n",
       "      <td>2400.0</td>\n",
       "      <td>69300.0</td>\n",
       "      <td>4</td>\n",
       "    </tr>\n",
       "  </tbody>\n",
       "</table>\n",
       "<p>36934 rows × 6 columns</p>\n",
       "</div>"
      ],
      "text/plain": [
       "                      ADDRESS  ZIP CODE  LAND SQUARE FEET  GROSS SQUARE FEET  \\\n",
       "0                153 AVENUE B     10009            1633.0             6440.0   \n",
       "1         154 EAST 7TH STREET     10009            2272.0             6794.0   \n",
       "2      301 EAST 10TH   STREET     10009            2369.0             4615.0   \n",
       "3                210 AVENUE B     10009            1750.0             4226.0   \n",
       "4         629 EAST 5TH STREET     10009            4489.0            18523.0   \n",
       "...                       ...       ...               ...                ...   \n",
       "69293           37 QUAIL LANE     10309            2400.0             2575.0   \n",
       "69294        32 PHEASANT LANE     10309            2498.0             2377.0   \n",
       "69295        49 PITNEY AVENUE     10309            4000.0             1496.0   \n",
       "69296   2730 ARTHUR KILL ROAD     10309          208033.0            64117.0   \n",
       "69297       155 CLAY PIT ROAD     10309           10796.0             2400.0   \n",
       "\n",
       "       SALE PRICE TAX CLASS AT PRESENT  \n",
       "0       6625000.0                   2A  \n",
       "1       3936272.0                   2B  \n",
       "2       8000000.0                   2A  \n",
       "3       3192840.0                   2B  \n",
       "4      16232000.0                    2  \n",
       "...           ...                  ...  \n",
       "69293    450000.0                    1  \n",
       "69294    550000.0                    1  \n",
       "69295    460000.0                    1  \n",
       "69296  11693337.0                    4  \n",
       "69297     69300.0                    4  \n",
       "\n",
       "[36934 rows x 6 columns]"
      ]
     },
     "execution_count": 5,
     "metadata": {},
     "output_type": "execute_result"
    }
   ],
   "source": [
    "# Remove any row that has a null value in it. \n",
    "df = df.dropna()\n",
    "\n",
    "cols_to_select = ['ADDRESS','ZIP CODE', 'LAND SQUARE FEET','GROSS SQUARE FEET', 'SALE PRICE','TAX CLASS AT PRESENT']\n",
    "df[cols_to_select]"
   ]
  },
  {
   "cell_type": "code",
   "execution_count": 6,
   "metadata": {},
   "outputs": [
    {
     "name": "stdout",
     "output_type": "stream",
     "text": [
      "BOROUGH                             int64\n",
      "NEIGHBORHOOD                       object\n",
      "BUILDING CLASS CATEGORY            object\n",
      "TAX CLASS AT PRESENT               object\n",
      "BLOCK                               int64\n",
      "LOT                                 int64\n",
      "EASE-MENT                          object\n",
      "BUILDING CLASS AT PRESENT          object\n",
      "ADDRESS                            object\n",
      "APARTMENT NUMBER                   object\n",
      "ZIP CODE                            int64\n",
      "RESIDENTIAL UNITS                   int64\n",
      "COMMERCIAL UNITS                    int64\n",
      "TOTAL UNITS                         int64\n",
      "LAND SQUARE FEET                  float64\n",
      "GROSS SQUARE FEET                 float64\n",
      "YEAR BUILT                          int64\n",
      "TAX CLASS AT TIME OF SALE           int64\n",
      "BUILDING CLASS AT TIME OF SALE     object\n",
      "SALE PRICE                        float64\n",
      "SALE DATE                          object\n",
      "dtype: object\n"
     ]
    }
   ],
   "source": [
    "print (df.dtypes)\n"
   ]
  },
  {
   "cell_type": "code",
   "execution_count": 7,
   "metadata": {},
   "outputs": [
    {
     "name": "stdout",
     "output_type": "stream",
     "text": [
      "Number of duplicate rows are 0.\n"
     ]
    },
    {
     "data": {
      "text/plain": [
       "BOROUGH                           0\n",
       "NEIGHBORHOOD                      0\n",
       "BUILDING CLASS CATEGORY           0\n",
       "TAX CLASS AT PRESENT              0\n",
       "BLOCK                             0\n",
       "LOT                               0\n",
       "EASE-MENT                         0\n",
       "BUILDING CLASS AT PRESENT         0\n",
       "ADDRESS                           0\n",
       "APARTMENT NUMBER                  0\n",
       "ZIP CODE                          0\n",
       "RESIDENTIAL UNITS                 0\n",
       "COMMERCIAL UNITS                  0\n",
       "TOTAL UNITS                       0\n",
       "LAND SQUARE FEET                  0\n",
       "GROSS SQUARE FEET                 0\n",
       "YEAR BUILT                        0\n",
       "TAX CLASS AT TIME OF SALE         0\n",
       "BUILDING CLASS AT TIME OF SALE    0\n",
       "SALE PRICE                        0\n",
       "SALE DATE                         0\n",
       "dtype: int64"
      ]
     },
     "execution_count": 7,
     "metadata": {},
     "output_type": "execute_result"
    }
   ],
   "source": [
    "n_dupes = df.duplicated().sum()\n",
    "null=df.isnull().sum()\n",
    "print(\"Number of duplicate rows are %i.\" % n_dupes)\n",
    "null"
   ]
  },
  {
   "cell_type": "code",
   "execution_count": 8,
   "metadata": {},
   "outputs": [
    {
     "name": "stdout",
     "output_type": "stream",
     "text": [
      "<class 'pandas.core.frame.DataFrame'>\n",
      "Int64Index: 36934 entries, 0 to 69297\n",
      "Data columns (total 21 columns):\n",
      " #   Column                          Non-Null Count  Dtype  \n",
      "---  ------                          --------------  -----  \n",
      " 0   BOROUGH                         36934 non-null  int64  \n",
      " 1   NEIGHBORHOOD                    36934 non-null  object \n",
      " 2   BUILDING CLASS CATEGORY         36934 non-null  object \n",
      " 3   TAX CLASS AT PRESENT            36934 non-null  object \n",
      " 4   BLOCK                           36934 non-null  int64  \n",
      " 5   LOT                             36934 non-null  int64  \n",
      " 6   EASE-MENT                       36934 non-null  object \n",
      " 7   BUILDING CLASS AT PRESENT       36934 non-null  object \n",
      " 8   ADDRESS                         36934 non-null  object \n",
      " 9   APARTMENT NUMBER                36934 non-null  object \n",
      " 10  ZIP CODE                        36934 non-null  int64  \n",
      " 11  RESIDENTIAL UNITS               36934 non-null  int64  \n",
      " 12  COMMERCIAL UNITS                36934 non-null  int64  \n",
      " 13  TOTAL UNITS                     36934 non-null  int64  \n",
      " 14  LAND SQUARE FEET                36934 non-null  float64\n",
      " 15  GROSS SQUARE FEET               36934 non-null  float64\n",
      " 16  YEAR BUILT                      36934 non-null  int64  \n",
      " 17  TAX CLASS AT TIME OF SALE       36934 non-null  int64  \n",
      " 18  BUILDING CLASS AT TIME OF SALE  36934 non-null  object \n",
      " 19  SALE PRICE                      36934 non-null  float64\n",
      " 20  SALE DATE                       36934 non-null  object \n",
      "dtypes: float64(3), int64(9), object(9)\n",
      "memory usage: 6.2+ MB\n"
     ]
    }
   ],
   "source": [
    "df.info()"
   ]
  },
  {
   "cell_type": "code",
   "execution_count": 9,
   "metadata": {},
   "outputs": [
    {
     "data": {
      "text/html": [
       "<div>\n",
       "<style scoped>\n",
       "    .dataframe tbody tr th:only-of-type {\n",
       "        vertical-align: middle;\n",
       "    }\n",
       "\n",
       "    .dataframe tbody tr th {\n",
       "        vertical-align: top;\n",
       "    }\n",
       "\n",
       "    .dataframe thead th {\n",
       "        text-align: right;\n",
       "    }\n",
       "</style>\n",
       "<table border=\"1\" class=\"dataframe\">\n",
       "  <thead>\n",
       "    <tr style=\"text-align: right;\">\n",
       "      <th></th>\n",
       "      <th>ZIP CODE</th>\n",
       "      <th>YEAR BUILT</th>\n",
       "      <th>age</th>\n",
       "      <th>GROSS SQUARE FEET</th>\n",
       "      <th>SALE PRICE</th>\n",
       "      <th>price sqft</th>\n",
       "    </tr>\n",
       "  </thead>\n",
       "  <tbody>\n",
       "    <tr>\n",
       "      <th>0</th>\n",
       "      <td>10009</td>\n",
       "      <td>1900</td>\n",
       "      <td>121</td>\n",
       "      <td>6440.0</td>\n",
       "      <td>6625000.0</td>\n",
       "      <td>1028.726708</td>\n",
       "    </tr>\n",
       "    <tr>\n",
       "      <th>1</th>\n",
       "      <td>10009</td>\n",
       "      <td>1913</td>\n",
       "      <td>108</td>\n",
       "      <td>6794.0</td>\n",
       "      <td>3936272.0</td>\n",
       "      <td>579.374742</td>\n",
       "    </tr>\n",
       "    <tr>\n",
       "      <th>2</th>\n",
       "      <td>10009</td>\n",
       "      <td>1900</td>\n",
       "      <td>121</td>\n",
       "      <td>4615.0</td>\n",
       "      <td>8000000.0</td>\n",
       "      <td>1733.477790</td>\n",
       "    </tr>\n",
       "    <tr>\n",
       "      <th>3</th>\n",
       "      <td>10009</td>\n",
       "      <td>1920</td>\n",
       "      <td>101</td>\n",
       "      <td>4226.0</td>\n",
       "      <td>3192840.0</td>\n",
       "      <td>755.522953</td>\n",
       "    </tr>\n",
       "    <tr>\n",
       "      <th>4</th>\n",
       "      <td>10009</td>\n",
       "      <td>1920</td>\n",
       "      <td>101</td>\n",
       "      <td>18523.0</td>\n",
       "      <td>16232000.0</td>\n",
       "      <td>876.315932</td>\n",
       "    </tr>\n",
       "    <tr>\n",
       "      <th>...</th>\n",
       "      <td>...</td>\n",
       "      <td>...</td>\n",
       "      <td>...</td>\n",
       "      <td>...</td>\n",
       "      <td>...</td>\n",
       "      <td>...</td>\n",
       "    </tr>\n",
       "    <tr>\n",
       "      <th>69293</th>\n",
       "      <td>10309</td>\n",
       "      <td>1998</td>\n",
       "      <td>23</td>\n",
       "      <td>2575.0</td>\n",
       "      <td>450000.0</td>\n",
       "      <td>174.757282</td>\n",
       "    </tr>\n",
       "    <tr>\n",
       "      <th>69294</th>\n",
       "      <td>10309</td>\n",
       "      <td>1998</td>\n",
       "      <td>23</td>\n",
       "      <td>2377.0</td>\n",
       "      <td>550000.0</td>\n",
       "      <td>231.384098</td>\n",
       "    </tr>\n",
       "    <tr>\n",
       "      <th>69295</th>\n",
       "      <td>10309</td>\n",
       "      <td>1925</td>\n",
       "      <td>96</td>\n",
       "      <td>1496.0</td>\n",
       "      <td>460000.0</td>\n",
       "      <td>307.486631</td>\n",
       "    </tr>\n",
       "    <tr>\n",
       "      <th>69296</th>\n",
       "      <td>10309</td>\n",
       "      <td>2001</td>\n",
       "      <td>20</td>\n",
       "      <td>64117.0</td>\n",
       "      <td>11693337.0</td>\n",
       "      <td>182.374986</td>\n",
       "    </tr>\n",
       "    <tr>\n",
       "      <th>69297</th>\n",
       "      <td>10309</td>\n",
       "      <td>2006</td>\n",
       "      <td>15</td>\n",
       "      <td>2400.0</td>\n",
       "      <td>69300.0</td>\n",
       "      <td>28.875000</td>\n",
       "    </tr>\n",
       "  </tbody>\n",
       "</table>\n",
       "<p>36934 rows × 6 columns</p>\n",
       "</div>"
      ],
      "text/plain": [
       "       ZIP CODE  YEAR BUILT  age  GROSS SQUARE FEET  SALE PRICE   price sqft\n",
       "0         10009        1900  121             6440.0   6625000.0  1028.726708\n",
       "1         10009        1913  108             6794.0   3936272.0   579.374742\n",
       "2         10009        1900  121             4615.0   8000000.0  1733.477790\n",
       "3         10009        1920  101             4226.0   3192840.0   755.522953\n",
       "4         10009        1920  101            18523.0  16232000.0   876.315932\n",
       "...         ...         ...  ...                ...         ...          ...\n",
       "69293     10309        1998   23             2575.0    450000.0   174.757282\n",
       "69294     10309        1998   23             2377.0    550000.0   231.384098\n",
       "69295     10309        1925   96             1496.0    460000.0   307.486631\n",
       "69296     10309        2001   20            64117.0  11693337.0   182.374986\n",
       "69297     10309        2006   15             2400.0     69300.0    28.875000\n",
       "\n",
       "[36934 rows x 6 columns]"
      ]
     },
     "execution_count": 9,
     "metadata": {},
     "output_type": "execute_result"
    }
   ],
   "source": [
    "\n",
    "df['price sqft'] = df['SALE PRICE']/df['GROSS SQUARE FEET']\n",
    "df['age'] = 2021 - df['YEAR BUILT']\n",
    "col=['ZIP CODE','YEAR BUILT','age','GROSS SQUARE FEET','SALE PRICE','price sqft']\n",
    "df[col]"
   ]
  },
  {
   "cell_type": "code",
   "execution_count": 10,
   "metadata": {},
   "outputs": [
    {
     "data": {
      "text/plain": [
       "11201    1043\n",
       "10314     842\n",
       "11235     796\n",
       "10312     741\n",
       "11234     733\n",
       "         ... \n",
       "10803       1\n",
       "11005       1\n",
       "10006       1\n",
       "10044       1\n",
       "10167       1\n",
       "Name: ZIP CODE, Length: 179, dtype: int64"
      ]
     },
     "execution_count": 10,
     "metadata": {},
     "output_type": "execute_result"
    }
   ],
   "source": [
    "df['ZIP CODE'].value_counts()\n"
   ]
  },
  {
   "cell_type": "code",
   "execution_count": 11,
   "metadata": {},
   "outputs": [
    {
     "data": {
      "image/png": "[encoded data removed]",
      "text/plain": [
       "<Figure size 432x288 with 1 Axes>"
      ]
     },
     "metadata": {
      "needs_background": "light"
     },
     "output_type": "display_data"
    }
   ],
   "source": [
    "plt.scatter(df['GROSS SQUARE FEET'], df['SALE PRICE'], color='red')\n",
    "plt.title('GROSS SQUARE FEET Vs SALE PRICE', fontsize=14)\n",
    "plt.xlabel('GROSS SQUARE FEET', fontsize=14)\n",
    "plt.ylabel('SALE PRICE', fontsize=14)\n",
    "plt.grid(True)\n",
    "plt.show()"
   ]
  },
  {
   "cell_type": "code",
   "execution_count": 12,
   "metadata": {},
   "outputs": [
    {
     "data": {
      "image/png": "[encoded data removed]",
      "text/plain": [
       "<Figure size 432x288 with 1 Axes>"
      ]
     },
     "metadata": {
      "needs_background": "light"
     },
     "output_type": "display_data"
    }
   ],
   "source": [
    "plt.scatter(df['ZIP CODE'], df['SALE PRICE'], color='red')\n",
    "plt.title('ZIP CODE Vs SALE PRICE', fontsize=14)\n",
    "plt.xlabel('ZIP CODE', fontsize=14)\n",
    "plt.xlim([10000, 12000])\n",
    "plt.ylim([0,300000000])\n",
    "plt.ylabel('SALE PRICE', fontsize=14)\n",
    "plt.grid(True)\n",
    "plt.show()"
   ]
  },
  {
   "cell_type": "code",
   "execution_count": 13,
   "metadata": {},
   "outputs": [
    {
     "data": {
      "image/png": "[encoded data removed]",
      "text/plain": [
       "<Figure size 432x288 with 1 Axes>"
      ]
     },
     "metadata": {
      "needs_background": "light"
     },
     "output_type": "display_data"
    }
   ],
   "source": [
    "plt.scatter(df['age'], df['price sqft'], color='red')\n",
    "plt.title('age Vs price sqft', fontsize=14)\n",
    "plt.xlabel('age', fontsize=14)\n",
    "plt.xlim([0, 200])\n",
    "plt.ylim([0,40000])\n",
    "plt.ylabel('price sqft', fontsize=14)\n",
    "plt.grid(True)\n",
    "plt.show()"
   ]
  },
  {
   "cell_type": "code",
   "execution_count": 14,
   "metadata": {},
   "outputs": [],
   "source": [
    "selected_features = ['GROSS SQUARE FEET','ZIP CODE','YEAR BUILT']\n",
    "#selected_features = ['GROSS SQUARE FEET']"
   ]
  },
  {
   "cell_type": "code",
   "execution_count": 15,
   "metadata": {},
   "outputs": [],
   "source": [
    "#define x and y for the predictor\n",
    "# y is what we are trying to predict, and X is what we are using to make that prediction.\n",
    "\n",
    "x = df[selected_features]\n",
    "y = df['SALE PRICE']"
   ]
  },
  {
   "cell_type": "code",
   "execution_count": 16,
   "metadata": {},
   "outputs": [
    {
     "name": "stdout",
     "output_type": "stream",
     "text": [
      "Lenght of our Training data: (29547, 3) \n",
      "Length of our Testing data: (7387, 3)\n",
      "Lenght of our Training data: (29547,) \n",
      "Length of our Testing data: (7387,)\n"
     ]
    }
   ],
   "source": [
    "# split data into train and test\n",
    "x_train, x_test, y_train, y_test = train_test_split(\n",
    "x, y, test_size=0.2)\n",
    "print('Lenght of our Training data:', x_train.shape, '\\nLength of our Testing data:', x_test.shape)\n",
    "print('Lenght of our Training data:', y_train.shape, '\\nLength of our Testing data:', y_test.shape)"
   ]
  },
  {
   "cell_type": "code",
   "execution_count": 17,
   "metadata": {},
   "outputs": [],
   "source": [
    "#y_train=y_train.reshape((29547,1))"
   ]
  },
  {
   "cell_type": "code",
   "execution_count": 18,
   "metadata": {},
   "outputs": [
    {
     "data": {
      "text/plain": [
       "LinearRegression()"
      ]
     },
     "execution_count": 18,
     "metadata": {},
     "output_type": "execute_result"
    }
   ],
   "source": [
    "# instantiate, fit\n",
    "regr = linear_model.LinearRegression()\n",
    "regr.fit(x_train, y_train)\n"
   ]
  },
  {
   "cell_type": "code",
   "execution_count": 19,
   "metadata": {},
   "outputs": [
    {
     "name": "stdout",
     "output_type": "stream",
     "text": [
      "3355953.9444566797\n",
      "[ 290.07747762 -212.7508033  -236.96641568]\n"
     ]
    }
   ],
   "source": [
    "print (regr.intercept_)\n",
    "print (regr.coef_) "
   ]
  },
  {
   "cell_type": "code",
   "execution_count": 32,
   "metadata": {},
   "outputs": [
    {
     "name": "stdout",
     "output_type": "stream",
     "text": [
      "Predicted Property Price: \n",
      " [1430746.29203949]\n"
     ]
    },
    {
     "data": {
      "text/plain": [
       "1824201.522350351"
      ]
     },
     "execution_count": 32,
     "metadata": {},
     "output_type": "execute_result"
    }
   ],
   "source": [
    "# prediction with sklearn\n",
    "Size = 2575\n",
    "zipcode = 10309\n",
    "Year = 2021\n",
    "print ('Predicted Property Price: \\n', regr.predict([[Size, zipcode,Year]]))\n",
    "y_pred=regr.predict([[Size, zipcode,Year]])\n",
    "y_pred[0]*5*Annual_Inflation+y_pred[0]*5*Economic_Growth+y_pred[0]"
   ]
  },
  {
   "cell_type": "code",
   "execution_count": 27,
   "metadata": {},
   "outputs": [],
   "source": [
    "import pickle\n"
   ]
  },
  {
   "cell_type": "code",
   "execution_count": 28,
   "metadata": {},
   "outputs": [],
   "source": [
    "pickle.dump(regr, open('model.pkl', 'wb'))"
   ]
  },
  {
   "cell_type": "code",
   "execution_count": 30,
   "metadata": {},
   "outputs": [
    {
     "data": {
      "text/plain": [
       "array([1430746.29203949])"
      ]
     },
     "execution_count": 30,
     "metadata": {},
     "output_type": "execute_result"
    }
   ],
   "source": [
    "pickled_model = pickle.load(open('model.pkl', 'rb'))\n",
    "pickled_model.predict([[Size, zipcode,Year]])"
   ]
  },
  {
   "cell_type": "code",
   "execution_count": null,
   "metadata": {},
   "outputs": [],
   "source": []
  }
 ],
 "metadata": {
  "kernelspec": {
   "display_name": "Python 3",
   "language": "python",
   "name": "python3"
  },
  "language_info": {
   "codemirror_mode": {
    "name": "ipython",
    "version": 3
   },
   "file_extension": ".py",
   "mimetype": "text/x-python",
   "name": "python",
   "nbconvert_exporter": "python",
   "pygments_lexer": "ipython3",
   "version": "3.8.5"
  }
 },
 "nbformat": 4,
 "nbformat_minor": 4
}
